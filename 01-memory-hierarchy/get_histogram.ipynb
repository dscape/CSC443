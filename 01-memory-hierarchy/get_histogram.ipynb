{
 "metadata": {
  "name": "get_histogram"
 },
 "nbformat": 3,
 "nbformat_minor": 0,
 "worksheets": [
  {
   "cells": [
    {
     "cell_type": "code",
     "collapsed": false,
     "input": [
      "import subprocess\n",
      "from os import path"
     ],
     "language": "python",
     "metadata": {},
     "outputs": []
    },
    {
     "cell_type": "markdown",
     "metadata": {},
     "source": [
      "Accumulate run time data:"
     ]
    },
    {
     "cell_type": "code",
     "collapsed": false,
     "input": [
      "prog = path.abspath(\"get_histogram\")\n",
      "\n",
      "data = []\n",
      "for exp in xrange(10, 26):\n",
      "    block_size = 2 ** exp\n",
      "    cmd_args = [prog, \"noise\", str(block_size)]\n",
      "    proc = subprocess.Popen(cmd_args, stdout=subprocess.PIPE)\n",
      "    (blk, time_taken) = proc.stdout.read().split()\n",
      "    print \"Block size: 2^%d bytes; Time taken: %s milliseconds\" % (exp, time_taken)\n",
      "    \n",
      "    data.append( (int(blk), int(time_taken)) )"
     ],
     "language": "python",
     "metadata": {},
     "outputs": []
    },
    {
     "cell_type": "markdown",
     "metadata": {},
     "source": [
      "Plot the data:"
     ]
    },
    {
     "cell_type": "code",
     "collapsed": false,
     "input": [
      "(xitems, yitems) = zip(*data)\n",
      "semilogx(xitems, yitems, 'bo-', basex=2)\n",
      "xlabel(\"Block size\")\n",
      "ylabel(\"Time (in milliseconds)\")\n",
      "\n",
      "# mark and annotate the fastest block size\n",
      "(x, y) = min(data, key=lambda (x, y): y)\n",
      "axhline(y, color='r')\n",
      "axvline(x, color='r')\n",
      "annotate(\"(%d, %d)\" % (x, y), xy=(x, y), xytext=(3, -3), textcoords='offset points', verticalalignment='top')\n"
     ],
     "language": "python",
     "metadata": {},
     "outputs": []
    }
   ],
   "metadata": {}
  }
 ]
}