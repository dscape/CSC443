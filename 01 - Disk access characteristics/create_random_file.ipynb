{
 "metadata": {
  "name": "create_random_file"
 },
 "nbformat": 3,
 "nbformat_minor": 0,
 "worksheets": [
  {
   "cells": [
    {
     "cell_type": "code",
     "collapsed": false,
     "input": [
      "import shlex\n",
      "import subprocess\n",
      "from os import path"
     ],
     "language": "python",
     "metadata": {},
     "outputs": []
    },
    {
     "cell_type": "markdown",
     "metadata": {},
     "source": [
      "Accumulate run time data:"
     ]
    },
    {
     "cell_type": "code",
     "collapsed": false,
     "input": [
      "data = {}\n",
      "file_size = 104857600\n",
      "for exp in xrange(10, 26):\n",
      "    block_size = 2 ** exp\n",
      "    cmd_args = [path.abspath(\"create_random_file\"), \"noise\", str(file_size), str(block_size)]\n",
      "    proc = subprocess.Popen(cmd_args, stdout=subprocess.PIPE)\n",
      "    (blk, time_taken) = proc.stdout.read().split()\n",
      "    print \"Block size: 2^%d bytes; Time taken: %s milliseconds\" % (exp, time_taken)\n",
      "    data[int(blk)] = int(time_taken)"
     ],
     "language": "python",
     "metadata": {},
     "outputs": []
    },
    {
     "cell_type": "markdown",
     "metadata": {},
     "source": [
      "Plot the data:"
     ]
    },
    {
     "cell_type": "code",
     "collapsed": false,
     "input": [
      "sorted_data = sorted(data.items(), key=lambda (x, y): x)\n",
      "(xitems, yitems) = zip(*sorted_data)\n",
      "semilogx(xitems, yitems, 'bo-')\n",
      "xlabel(\"Block size\")\n",
      "ylabel(\"Time (in milliseconds)\")\n",
      "axhline(min(data.values()), color='r')"
     ],
     "language": "python",
     "metadata": {},
     "outputs": []
    }
   ],
   "metadata": {}
  }
 ]
}